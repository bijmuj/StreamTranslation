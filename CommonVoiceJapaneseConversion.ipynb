{
  "nbformat": 4,
  "nbformat_minor": 0,
  "metadata": {
    "colab": {
      "name": "CommonVoiceJapaneseConversion.ipynb",
      "provenance": [],
      "collapsed_sections": [],
      "mount_file_id": "1Jjwp_rm2hCjEX4lbni4fGgepZecLc3qp",
      "authorship_tag": "ABX9TyPSKMJf6+A/da4K1jVpNFcL",
      "include_colab_link": true
    },
    "kernelspec": {
      "name": "python3",
      "display_name": "Python 3"
    },
    "language_info": {
      "name": "python"
    }
  },
  "cells": [
    {
      "cell_type": "markdown",
      "metadata": {
        "id": "view-in-github",
        "colab_type": "text"
      },
      "source": [
        "<a href=\"https://colab.research.google.com/github/bijmuj/StreamTranslation/blob/main/CommonVoiceJapaneseConversion.ipynb\" target=\"_parent\"><img src=\"https://colab.research.google.com/assets/colab-badge.svg\" alt=\"Open In Colab\"/></a>"
      ]
    },
    {
      "cell_type": "markdown",
      "metadata": {
        "id": "nz8QYs8E8PB1"
      },
      "source": [
        "# Common Voice Japanese Conversion\n",
        "\n",
        "I'm using the [Common Voice](https://commonvoice.mozilla.org/en/datasets) dataset by Mozilla. It is a large, open source, multi language dataset, available under a [Creative Commons License](https://www.mozilla.org/en-US/foundation/licensing/website-content/). This project uses the Japanese language subset of the dataset, which consists of 397 voices and 26 hours of validated utterances. The sound clips by default are in .mp3 format, so I converted it to .wav to use with [Coqui.ai's Speech to Text Model](https://github.com/coqui-ai/stt). I also did some conversions to the validated.csv file to use natively with that model.\n",
        "\n",
        "## Installs\n",
        "\n",
        "We need to get pydub to do the conversions from .mp3 to .wav."
      ]
    },
    {
      "cell_type": "code",
      "metadata": {
        "colab": {
          "base_uri": "https://localhost:8080/"
        },
        "id": "mw85TkB0EUK7",
        "outputId": "a236cc32-0889-4c3c-ec9c-30be93067cbb"
      },
      "source": [
        "pip install -q pydub"
      ],
      "execution_count": null,
      "outputs": [
        {
          "output_type": "stream",
          "name": "stdout",
          "text": [
            "Collecting pydub\n",
            "  Downloading pydub-0.25.1-py2.py3-none-any.whl (32 kB)\n",
            "Installing collected packages: pydub\n",
            "Successfully installed pydub-0.25.1\n"
          ]
        }
      ]
    },
    {
      "cell_type": "markdown",
      "metadata": {
        "id": "spzjoMDM_MIl"
      },
      "source": [
        "## Getting the Dataset\n",
        "\n",
        "I'm not downloading it directly from the Common Voices site because it was easier to download it locally and upload it to Google Drive and work from there. Make sure to connect Drive before running."
      ]
    },
    {
      "cell_type": "code",
      "metadata": {
        "id": "K-8BGuuCFg_s"
      },
      "source": [
        "! mkdir Dataset\n",
        "! tar -xkf drive/MyDrive/cv-corpus-7.0-2021-07-21-ja.tar.gz -C Dataset"
      ],
      "execution_count": null,
      "outputs": []
    },
    {
      "cell_type": "markdown",
      "metadata": {
        "id": "PgsPeXOh_gjx"
      },
      "source": [
        "## Removing Unnecessary Attributes\n",
        "\n",
        "For this project, attributes like age, gender, accent are not useful. All we need are the file names aka path and transcripts aka sentence. I appended the directory path to the filenames to make opening them easier later on."
      ]
    },
    {
      "cell_type": "code",
      "metadata": {
        "id": "uKcIPl0MEZj_"
      },
      "source": [
        "from pydub import AudioSegment\n",
        "import pandas as pd\n",
        "from tqdm import tqdm"
      ],
      "execution_count": null,
      "outputs": []
    },
    {
      "cell_type": "code",
      "metadata": {
        "colab": {
          "base_uri": "https://localhost:8080/",
          "height": 643
        },
        "id": "6227Fc3YHuF_",
        "outputId": "5cb40b89-de0f-4d67-ee9d-7ee11a6fbd4a"
      },
      "source": [
        "tsv_base = pd.read_csv('/content/Dataset/cv-corpus-7.0-2021-07-21/ja/validated.tsv', sep='\\t')\n",
        "tsv_base.head(5)"
      ],
      "execution_count": null,
      "outputs": [
        {
          "output_type": "execute_result",
          "data": {
            "text/html": [
              "<div>\n",
              "<style scoped>\n",
              "    .dataframe tbody tr th:only-of-type {\n",
              "        vertical-align: middle;\n",
              "    }\n",
              "\n",
              "    .dataframe tbody tr th {\n",
              "        vertical-align: top;\n",
              "    }\n",
              "\n",
              "    .dataframe thead th {\n",
              "        text-align: right;\n",
              "    }\n",
              "</style>\n",
              "<table border=\"1\" class=\"dataframe\">\n",
              "  <thead>\n",
              "    <tr style=\"text-align: right;\">\n",
              "      <th></th>\n",
              "      <th>client_id</th>\n",
              "      <th>path</th>\n",
              "      <th>sentence</th>\n",
              "      <th>up_votes</th>\n",
              "      <th>down_votes</th>\n",
              "      <th>age</th>\n",
              "      <th>gender</th>\n",
              "      <th>accent</th>\n",
              "      <th>locale</th>\n",
              "      <th>segment</th>\n",
              "    </tr>\n",
              "  </thead>\n",
              "  <tbody>\n",
              "    <tr>\n",
              "      <th>0</th>\n",
              "      <td>033ede7ca4c60dc27cef421b4d33799d38924ed36fa8dd...</td>\n",
              "      <td>common_voice_ja_21409740.mp3</td>\n",
              "      <td>祖母は、おおむね機嫌よく、サイコロをころがしている。</td>\n",
              "      <td>2</td>\n",
              "      <td>0</td>\n",
              "      <td>NaN</td>\n",
              "      <td>NaN</td>\n",
              "      <td>NaN</td>\n",
              "      <td>ja</td>\n",
              "      <td>NaN</td>\n",
              "    </tr>\n",
              "    <tr>\n",
              "      <th>1</th>\n",
              "      <td>087edae49ce1e0f600682ceccc7fc28e81e64ae890e647...</td>\n",
              "      <td>common_voice_ja_22072759.mp3</td>\n",
              "      <td>財布をなくしたので、交番へ行きます。</td>\n",
              "      <td>2</td>\n",
              "      <td>0</td>\n",
              "      <td>teens</td>\n",
              "      <td>female</td>\n",
              "      <td>NaN</td>\n",
              "      <td>ja</td>\n",
              "      <td>NaN</td>\n",
              "    </tr>\n",
              "    <tr>\n",
              "      <th>2</th>\n",
              "      <td>09e6ae463786aae9071baa9044ac8b7466aa7c48dcdaf4...</td>\n",
              "      <td>common_voice_ja_23677003.mp3</td>\n",
              "      <td>背の高さは一七〇センチほどで、目が大きく、やや太っている。</td>\n",
              "      <td>2</td>\n",
              "      <td>0</td>\n",
              "      <td>NaN</td>\n",
              "      <td>NaN</td>\n",
              "      <td>NaN</td>\n",
              "      <td>ja</td>\n",
              "      <td>NaN</td>\n",
              "    </tr>\n",
              "    <tr>\n",
              "      <th>3</th>\n",
              "      <td>15b7d87a73d28b37664fdf7fea1ff232f89e80ce954c9b...</td>\n",
              "      <td>common_voice_ja_19499629.mp3</td>\n",
              "      <td>新しい靴をはいて出かけます。</td>\n",
              "      <td>2</td>\n",
              "      <td>0</td>\n",
              "      <td>NaN</td>\n",
              "      <td>NaN</td>\n",
              "      <td>NaN</td>\n",
              "      <td>ja</td>\n",
              "      <td>NaN</td>\n",
              "    </tr>\n",
              "    <tr>\n",
              "      <th>4</th>\n",
              "      <td>1c6e8463b08279962ad37c0946d0b1df78a82a4c907f4b...</td>\n",
              "      <td>common_voice_ja_22717324.mp3</td>\n",
              "      <td>松井さんはサッカーより野球のほうが上手です。</td>\n",
              "      <td>2</td>\n",
              "      <td>0</td>\n",
              "      <td>thirties</td>\n",
              "      <td>male</td>\n",
              "      <td>NaN</td>\n",
              "      <td>ja</td>\n",
              "      <td>NaN</td>\n",
              "    </tr>\n",
              "  </tbody>\n",
              "</table>\n",
              "</div>"
            ],
            "text/plain": [
              "                                           client_id  ... segment\n",
              "0  033ede7ca4c60dc27cef421b4d33799d38924ed36fa8dd...  ...     NaN\n",
              "1  087edae49ce1e0f600682ceccc7fc28e81e64ae890e647...  ...     NaN\n",
              "2  09e6ae463786aae9071baa9044ac8b7466aa7c48dcdaf4...  ...     NaN\n",
              "3  15b7d87a73d28b37664fdf7fea1ff232f89e80ce954c9b...  ...     NaN\n",
              "4  1c6e8463b08279962ad37c0946d0b1df78a82a4c907f4b...  ...     NaN\n",
              "\n",
              "[5 rows x 10 columns]"
            ]
          },
          "metadata": {},
          "execution_count": 4
        }
      ]
    },
    {
      "cell_type": "code",
      "metadata": {
        "id": "t3GnqV-5Iq6G"
      },
      "source": [
        "mp3_path = \"/content/Dataset/cv-corpus-7.0-2021-07-21/ja/clips/\"\n",
        "tsv_base['path'] = mp3_path + tsv_base['path'].astype(str)\n",
        "features = ['path', 'sentence']\n",
        "tsv_small = tsv_base[features].copy()\n",
        "tsv_small.rename(columns={'sentence':'transcript'}, inplace=True)"
      ],
      "execution_count": null,
      "outputs": []
    },
    {
      "cell_type": "markdown",
      "metadata": {
        "id": "mE6iZeQGAAxC"
      },
      "source": [
        "## Conversion\n",
        "\n",
        "Only keeping the paths, audio file sizes and transciptions at the end."
      ]
    },
    {
      "cell_type": "code",
      "metadata": {
        "id": "J1mRI2amJyHo"
      },
      "source": [
        "wav_path = './Dataset/wav/'\n",
        "os.mkdir(wav_path)"
      ],
      "execution_count": null,
      "outputs": []
    },
    {
      "cell_type": "code",
      "metadata": {
        "id": "bPRfg0CKLft8"
      },
      "source": [
        "def convert_to_wav(paths):\n",
        "    file_names = []\n",
        "    file_sizes = []\n",
        "    for _, path in tqdm(enumerate(paths), total=len(paths)):\n",
        "        file_name = (path.split('/')[-1]).split('.')[0]\n",
        "        file_name = wav_path + file_name + '.wav'\n",
        "        file_names.append(file_name)\n",
        "        \n",
        "        sound = AudioSegment.from_mp3(path)\n",
        "        sound.export(file_name, format='wav')\n",
        "        file_sizes.append(os.path.getsize(file_name))\n",
        "    return file_names, file_sizes"
      ],
      "execution_count": null,
      "outputs": []
    },
    {
      "cell_type": "code",
      "metadata": {
        "id": "3O_GRgHpOWsi"
      },
      "source": [
        "tsv_small['wav_filename'], tsv_small['wav_filesize'] = convert_to_wav(tsv_small['path'])\n",
        "features = ['wav_filename', 'wav_filesize', 'transcript']\n",
        "tsv_small = tsv_small[features]\n",
        "tsv_small.to_csv('./Dataset/validated_samples.csv', index=False)"
      ],
      "execution_count": null,
      "outputs": []
    },
    {
      "cell_type": "markdown",
      "metadata": {
        "id": "3JKcr_yGEUeE"
      },
      "source": [
        "## Finishing up\n",
        "\n",
        "Tarballing and compressing the audio clips and uploading the tarball and csv files to Drive."
      ]
    },
    {
      "cell_type": "code",
      "metadata": {
        "id": "BEKwhpbjlWGg"
      },
      "source": [
        "! tar -ckzf wav_files.tar.gz ./Dataset/wav/\n",
        "! cp wav_files.tar.gz ./drive/MyDrive/Common\\ Voice\\ Japanese\n",
        "! cp ./Dataset/validated_samples.csv ./drive/MyDrive/Common\\ Voice\\ Japanese"
      ],
      "execution_count": null,
      "outputs": []
    },
    {
      "cell_type": "code",
      "metadata": {
        "id": "wVeLqSRXntow"
      },
      "source": [
        ""
      ],
      "execution_count": null,
      "outputs": []
    }
  ]
}